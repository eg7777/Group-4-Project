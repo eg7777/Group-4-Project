{
 "cells": [
  {
   "cell_type": "code",
   "execution_count": null,
   "id": "7c35ffb1",
   "metadata": {},
   "outputs": [],
   "source": [
    "#merge test and weather\n",
    "test_weather = test.merge(weather, how=\"left\", on=[\"Station\", \"Date\"])\n",
    "\n",
    "\n",
    "#Covert Date\n",
    "weather['Date'] = pd.to_datetime(weather['Date'])\n",
    "\n",
    "#New date columns\n",
    "weather['year'] = pd.to_datetime(weather['Date']).dt.year\n",
    "weather['month'] = pd.to_datetime(weather['Date']).dt.month\n",
    "weather['year_month'] = pd.to_datetime(weather['Date']).dt.to_period('M').astype(str)\n",
    "\n",
    "#Check for mosquito species\n",
    "\n",
    "\n",
    "#Dummify species\n",
    "\n",
    "train_weather['Pipiens'] = train_weather.apply(lambda row: 1 if 'PIPIENS' in row['Species'] else 0, axis=1)\n",
    "train_weather['Restuans'] = train_weather.apply(lambda row: 1 if 'RESTUANS' in row['Species'] else 0, axis=1)\n",
    "train_weather.drop(\"Species\", axis=1, inplace=True)\n",
    "\n",
    "\n",
    "#Weather columns to drop\n",
    "train_weather.drop(columns=['ResultDir'], axis=1, inplace=True)\n",
    "\n",
    "#poly features\n",
    "\n",
    "#risk rating\n",
    "address_wnv = pd.DataFrame(train_weather.groupby('Address')['WnvPresent'].sum()).reset_index()\n",
    "address_wnv['risk_rating'] = pd.cut(address_wnv['WnvPresent'], bins=[0, 2, 4, 6, 8, 67], right=False, labels=['very_low_risk','low_risk','medium_risk','high_risk','very_high_risk'], ordered=True)\n",
    "address_wnv.drop(columns='WnvPresent', inplace=True)\n",
    "\n",
    "train_weather = train_weather.merge(address_wnv, how='left', on='Address')\n",
    "risk_rating_df = pd.get_dummies(train_weather['risk_rating'])\n",
    "train_weather = pd.concat([train_weather, risk_rating_df], axis=1)"
   ]
  }
 ],
 "metadata": {
  "kernelspec": {
   "display_name": "Python 3",
   "language": "python",
   "name": "python3"
  },
  "language_info": {
   "codemirror_mode": {
    "name": "ipython",
    "version": 3
   },
   "file_extension": ".py",
   "mimetype": "text/x-python",
   "name": "python",
   "nbconvert_exporter": "python",
   "pygments_lexer": "ipython3",
   "version": "3.8.8"
  },
  "toc": {
   "base_numbering": 1,
   "nav_menu": {},
   "number_sections": true,
   "sideBar": true,
   "skip_h1_title": false,
   "title_cell": "Table of Contents",
   "title_sidebar": "Contents",
   "toc_cell": false,
   "toc_position": {},
   "toc_section_display": true,
   "toc_window_display": true
  }
 },
 "nbformat": 4,
 "nbformat_minor": 5
}
